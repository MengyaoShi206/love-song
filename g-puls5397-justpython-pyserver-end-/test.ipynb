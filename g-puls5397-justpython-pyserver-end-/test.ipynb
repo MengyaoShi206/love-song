{
 "cells": [
  {
   "cell_type": "markdown",
   "id": "d214f855",
   "metadata": {},
   "source": [
    "## api 测试"
   ]
  },
  {
   "cell_type": "code",
   "execution_count": null,
   "id": "aa0434e3",
   "metadata": {},
   "outputs": [],
   "source": [
    "import requests\n",
    "import json\n",
    "\n",
    "# 测试登录API\n",
    "url = 'http://127.0.0.1:8000/login/'\n",
    "data = {\n",
    "    'usrname': 'admin',\n",
    "    'password': 'admin123'\n",
    "}\n",
    "\n",
    "response = requests.post(url, json=data)\n",
    "print('Status Code:', response.status_code)\n",
    "print('Response JSON:', json.dumps(response.json(), ensure_ascii=False, indent=4))"
   ]
  }
 ],
 "metadata": {
  "kernelspec": {
   "display_name": "internship",
   "language": "python",
   "name": "python3"
  },
  "language_info": {
   "name": "python",
   "version": "3.13.2"
  }
 },
 "nbformat": 4,
 "nbformat_minor": 5
}
